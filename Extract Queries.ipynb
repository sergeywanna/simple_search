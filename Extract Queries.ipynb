{
 "cells": [
  {
   "cell_type": "code",
   "execution_count": 2,
   "id": "2aec093d",
   "metadata": {},
   "outputs": [],
   "source": [
    "import collections\n",
    "import csv\n",
    "import tqdm"
   ]
  },
  {
   "cell_type": "code",
   "execution_count": 5,
   "outputs": [
    {
     "name": "stderr",
     "output_type": "stream",
     "text": [
      "250987it [00:02, 98443.76it/s] \n"
     ]
    }
   ],
   "source": [
    "with open('../ff_srr/2022-12-01_to_2022-12-08_search_sessions_web_farfetch.csv') as f:\n",
    "    reader = csv.DictReader(f)\n",
    "    a = collections.Counter()\n",
    "    for row in tqdm.tqdm(reader):\n",
    "        if row['query']:\n",
    "            a.update([row['query'].lower()])"
   ],
   "metadata": {
    "collapsed": false
   }
  },
  {
   "cell_type": "code",
   "execution_count": 6,
   "outputs": [
    {
     "data": {
      "text/plain": "[('jordan 4', 486),\n ('yeezy', 345),\n ('羽绒服', 320),\n ('nike dunk low', 295),\n ('nike dunk', 263),\n ('dior', 253),\n ('essentials', 197),\n ('dunk', 194),\n ('moncler', 186),\n ('bape', 169)]"
     },
     "execution_count": 6,
     "metadata": {},
     "output_type": "execute_result"
    }
   ],
   "source": [
    "a.most_common(10)"
   ],
   "metadata": {
    "collapsed": false
   }
  },
  {
   "cell_type": "code",
   "execution_count": 8,
   "id": "fec703fa",
   "metadata": {},
   "outputs": [
    {
     "name": "stderr",
     "output_type": "stream",
     "text": [
      "100%|██████████| 36395/36395 [00:00<00:00, 2546656.67it/s]\n"
     ]
    }
   ],
   "source": [
    "# Order by count and write to file\n",
    "with open('queries.txt', 'w') as out:\n",
    "    for q in tqdm.tqdm(a.most_common()):\n",
    "        out.write(f'{q[0]}\\n')"
   ]
  }
 ],
 "metadata": {
  "kernelspec": {
   "name": "search",
   "language": "python",
   "display_name": "search"
  },
  "language_info": {
   "codemirror_mode": {
    "name": "ipython",
    "version": 3
   },
   "file_extension": ".py",
   "mimetype": "text/x-python",
   "name": "python",
   "nbconvert_exporter": "python",
   "pygments_lexer": "ipython3",
   "version": "3.9.5"
  }
 },
 "nbformat": 4,
 "nbformat_minor": 5
}
